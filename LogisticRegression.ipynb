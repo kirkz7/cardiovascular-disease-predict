{
 "cells": [
  {
   "cell_type": "code",
   "execution_count": 10,
   "id": "fe82ee17",
   "metadata": {},
   "outputs": [],
   "source": [
    "import numpy as np\n",
    "import pandas as pd\n",
    "from sklearn.linear_model import LogisticRegression\n",
    "from package import function\n",
    "from sklearn.metrics import accuracy_score\n",
    "from sklearn.model_selection import GridSearchCV\n",
    "from sklearn.model_selection import cross_val_score\n",
    "import matplotlib.pyplot as plt\n",
    "%matplotlib inline"
   ]
  },
  {
   "cell_type": "code",
   "execution_count": 11,
   "id": "af9d004b",
   "metadata": {},
   "outputs": [],
   "source": [
    "Xtrain = pd.read_csv(\"Xtrain.csv\")\n",
    "ytrain = pd.read_csv(\"ytrain.csv\").cardio\n",
    "Xtest = pd.read_csv(\"Xtest.csv\")\n",
    "ytest = pd.read_csv(\"ytest.csv\").cardio"
   ]
  },
  {
   "cell_type": "code",
   "execution_count": 12,
   "id": "d9991127",
   "metadata": {},
   "outputs": [
    {
     "name": "stdout",
     "output_type": "stream",
     "text": [
      "The score is 0.721381 for Logistic Regression baseline\n"
     ]
    },
    {
     "data": {
      "image/png": "[encoded data removed]",
      "text/plain": [
       "<Figure size 432x288 with 2 Axes>"
      ]
     },
     "metadata": {
      "needs_background": "light"
     },
     "output_type": "display_data"
    }
   ],
   "source": [
    "logreg_baseline = LogisticRegression(max_iter = 1000)\n",
    "logreg_baseline.fit(Xtrain,ytrain)\n",
    "y_pred = logreg_baseline.predict(Xtest)\n",
    "probTest = logreg_baseline.predict_proba(Xtest)\n",
    "probTest = probTest[:,1]\n",
    "function.eval_confusion(\"Logistic Regression baseline accuracy score is \",logreg_baseline.score(Xtest,ytest),y_pred,ytest)"
   ]
  },
  {
   "cell_type": "code",
   "execution_count": 13,
   "id": "784a8d87",
   "metadata": {},
   "outputs": [
    {
     "data": {
      "image/png": "[encoded data removed]",
      "text/plain": [
       "<Figure size 432x288 with 1 Axes>"
      ]
     },
     "metadata": {
      "needs_background": "light"
     },
     "output_type": "display_data"
    }
   ],
   "source": [
    "function.eval_auc(\"Logistic Regression baseline\",ytest,probTest)"
   ]
  },
  {
   "cell_type": "code",
   "execution_count": 14,
   "id": "8a99b821",
   "metadata": {
    "scrolled": true
   },
   "outputs": [
    {
     "data": {
      "text/plain": [
       "{'solver': 'newton-cg'}"
      ]
     },
     "execution_count": 14,
     "metadata": {},
     "output_type": "execute_result"
    }
   ],
   "source": [
    "param_grid = {'solver':['newton-cg', 'lbfgs', 'liblinear', 'sag', 'saga']}\n",
    "clf = GridSearchCV(logreg, param_grid)\n",
    "clf.fit(Xtrain,ytrain)\n",
    "clf.best_params_"
   ]
  },
  {
   "cell_type": "code",
   "execution_count": 15,
   "id": "bdbe8365",
   "metadata": {},
   "outputs": [],
   "source": [
    "logreg = LogisticRegression(max_iter = 100000, solver = 'liblinear')\n",
    "logreg.fit(Xtrain,ytrain)\n",
    "y_pred=logreg.predict(Xtest)"
   ]
  },
  {
   "cell_type": "code",
   "execution_count": null,
   "id": "89227e10",
   "metadata": {},
   "outputs": [],
   "source": [
    "param_grid = {'penalty':['l1','l2']}\n",
    "clf = GridSearchCV(logreg, param_grid)\n",
    "clf.fit(Xtrain,ytrain)\n",
    "clf.best_params_"
   ]
  },
  {
   "cell_type": "code",
   "execution_count": null,
   "id": "e2c418e7",
   "metadata": {},
   "outputs": [],
   "source": [
    "logreg = LogisticRegression(max_iter = 100000, solver = 'liblinear', penalty = 'l2')\n",
    "logreg.fit(Xtrain,ytrain)\n",
    "y_pred=logreg.predict(Xtest)"
   ]
  },
  {
   "cell_type": "code",
   "execution_count": null,
   "id": "4e6d24e8",
   "metadata": {},
   "outputs": [],
   "source": [
    "param_grid = {'C':[80, 75, 85]}\n",
    "clf = GridSearchCV(logreg, param_grid)\n",
    "clf.fit(Xtrain,ytrain)\n",
    "clf.best_params_"
   ]
  },
  {
   "cell_type": "code",
   "execution_count": null,
   "id": "22b5f22e",
   "metadata": {},
   "outputs": [],
   "source": [
    "cross_val_score = cross_val_score(logreg, Xtrain, ytrain, cv=10)\n",
    "print('Cross-Validation Accuracy Scores', cross_val_score)"
   ]
  },
  {
   "cell_type": "code",
   "execution_count": null,
   "id": "28a0e295",
   "metadata": {},
   "outputs": [],
   "source": [
    "logreg_final = LogisticRegression(max_iter = 100000, solver = 'liblinear', penalty = 'l2', C = 80)\n",
    "logreg_final.fit(Xtrain,ytrain)\n",
    "y_pred = logreg_final.predict(Xtest)\n",
    "probTest = logreg_final.predict_proba(Xtest)\n",
    "probTest = probTest[:,1]\n",
    "function.eval_confusion(\"Logistic Regression final accuracy score is \",logreg_final.score(Xtest,ytest),y_pred,ytest)"
   ]
  },
  {
   "cell_type": "code",
   "execution_count": null,
   "id": "c2daa04b",
   "metadata": {},
   "outputs": [],
   "source": [
    "importances = pd.DataFrame(data={\n",
    "    'Attribute': Xtrain.columns,\n",
    "    'Importance': logreg.coef_[0]\n",
    "})\n",
    "importances = importances.sort_values(by = 'Importance', ascending = False)\n",
    "plt.bar(x = importances['Attribute'], height = importances['Importance'], color = '#087E8B')\n",
    "plt.title('Feature importances obtained from coefficients', size = 20)\n",
    "plt.xticks(rotation='vertical')\n",
    "plt.show()"
   ]
  },
  {
   "cell_type": "code",
   "execution_count": null,
   "id": "cd21a25f",
   "metadata": {},
   "outputs": [],
   "source": []
  }
 ],
 "metadata": {
  "kernelspec": {
   "display_name": "Python 3 (ipykernel)",
   "language": "python",
   "name": "python3"
  },
  "language_info": {
   "codemirror_mode": {
    "name": "ipython",
    "version": 3
   },
   "file_extension": ".py",
   "mimetype": "text/x-python",
   "name": "python",
   "nbconvert_exporter": "python",
   "pygments_lexer": "ipython3",
   "version": "3.9.12"
  }
 },
 "nbformat": 4,
 "nbformat_minor": 5
}
