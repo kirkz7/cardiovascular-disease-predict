{
 "cells": [
  {
   "cell_type": "code",
   "execution_count": 10,
   "id": "fe82ee17",
   "metadata": {},
   "outputs": [],
   "source": [
    "import numpy as np\n",
    "import pandas as pd\n",
    "from sklearn.linear_model import LogisticRegression\n",
    "import matplotlib.pyplot as plt\n",
    "%matplotlib inline"
   ]
  },
  {
   "cell_type": "code",
   "execution_count": 11,
   "id": "af9d004b",
   "metadata": {},
   "outputs": [],
   "source": [
    "Xtrain = pd.read_csv(\"Xtrain.csv\")\n",
    "ytrain = pd.read_csv(\"ytrain.csv\").cardio"
   ]
  },
  {
   "cell_type": "code",
   "execution_count": 12,
   "id": "d98e7e98",
   "metadata": {},
   "outputs": [],
   "source": [
    "logreg = LogisticRegression()\n",
    "logreg.fit(Xtrain,ytrain)\n",
    "y_pred=logreg.predict(Xtest)"
   ]
  },
  {
   "cell_type": "code",
   "execution_count": null,
   "id": "e3ebc1e6",
   "metadata": {},
   "outputs": [],
   "source": []
  }
 ],
 "metadata": {
  "kernelspec": {
   "display_name": "Python 3 (ipykernel)",
   "language": "python",
   "name": "python3"
  },
  "language_info": {
   "codemirror_mode": {
    "name": "ipython",
    "version": 3
   },
   "file_extension": ".py",
   "mimetype": "text/x-python",
   "name": "python",
   "nbconvert_exporter": "python",
   "pygments_lexer": "ipython3",
   "version": "3.8.10"
  }
 },
 "nbformat": 4,
 "nbformat_minor": 5
}
