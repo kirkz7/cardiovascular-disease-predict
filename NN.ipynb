{
 "cells": [
  {
   "cell_type": "code",
   "execution_count": 1,
   "id": "977286dc",
   "metadata": {},
   "outputs": [],
   "source": [
    "import pandas as pd\n",
    "import numpy as np\n",
    "import matplotlib.pyplot as plt\n",
    "import torch\n",
    "import torch.nn as nn\n",
    "from tqdm import tqdm"
   ]
  },
  {
   "cell_type": "code",
   "execution_count": 2,
   "id": "9be5c148",
   "metadata": {},
   "outputs": [],
   "source": [
    "Xtrain = pd.read_csv(\"Xtrain.csv\")\n",
    "ytrain = pd.read_csv(\"ytrain.csv\").cardio\n",
    "Xtest = pd.read_csv(\"Xtest.csv\")\n",
    "ytest = pd.read_csv(\"ytest.csv\").cardio"
   ]
  },
  {
   "cell_type": "code",
   "execution_count": 6,
   "id": "0778dcd4",
   "metadata": {},
   "outputs": [],
   "source": [
    "class NN(torch.nn.Module):\n",
    "    def __init__(self, input_dim, output_dim):\n",
    "        super(NN, self).__init__()\n",
    "        self.linear1 = torch.nn.Linear(input_dim, 15)\n",
    "        self.linear2 = torch.nn.Linear(15, output_dim)\n",
    "    def forward(self, x):\n",
    "        x = torch.sigmoid(self.linear1(x))\n",
    "        x = torch.sigmoid(self.linear2(x))\n",
    "        return x"
   ]
  },
  {
   "cell_type": "code",
   "execution_count": 7,
   "id": "77c6f5fe",
   "metadata": {},
   "outputs": [],
   "source": [
    "epochs = 200000\n",
    "input_dim = 11 # Two inputs x1 and x2 \n",
    "output_dim = 1 # Single binary output \n",
    "learning_rate = 0.01"
   ]
  },
  {
   "cell_type": "code",
   "execution_count": 8,
   "id": "a9325967",
   "metadata": {},
   "outputs": [],
   "source": [
    "model = NN(input_dim,output_dim)\n",
    "criterion = torch.nn.BCELoss()\n",
    "optimizer = torch.optim.SGD(model.parameters(), lr=learning_rate)\n",
    "X_train, X_test = torch.Tensor(Xtrain.values),torch.Tensor(Xtest.values)\n",
    "y_train, y_test = torch.Tensor(ytrain),torch.Tensor(ytest)"
   ]
  },
  {
   "cell_type": "code",
   "execution_count": 9,
   "id": "dbabafb2",
   "metadata": {},
   "outputs": [
    {
     "name": "stderr",
     "output_type": "stream",
     "text": [
      "Training Epochs:   5%|▉                 | 10025/200000 [01:04<23:32, 134.52it/s]"
     ]
    },
    {
     "name": "stdout",
     "output_type": "stream",
     "text": [
      "Iteration: 10000. \n",
      "Test - Loss: 0.624328076839447. Accuracy: 65.3047619047619\n",
      "Train -  Loss: 0.6228548288345337. Accuracy: 65.26122448979592\n",
      "\n"
     ]
    },
    {
     "name": "stderr",
     "output_type": "stream",
     "text": [
      "Training Epochs:  10%|█▊                | 20014/200000 [02:30<29:43, 100.94it/s]"
     ]
    },
    {
     "name": "stdout",
     "output_type": "stream",
     "text": [
      "Iteration: 20000. \n",
      "Test - Loss: 0.6127467155456543. Accuracy: 66.4047619047619\n",
      "Train -  Loss: 0.6113309860229492. Accuracy: 66.6734693877551\n",
      "\n"
     ]
    },
    {
     "name": "stderr",
     "output_type": "stream",
     "text": [
      "Training Epochs:  15%|██▋               | 30019/200000 [03:49<19:05, 148.40it/s]"
     ]
    },
    {
     "name": "stdout",
     "output_type": "stream",
     "text": [
      "Iteration: 30000. \n",
      "Test - Loss: 0.6024397611618042. Accuracy: 67.93333333333334\n",
      "Train -  Loss: 0.600786566734314. Accuracy: 68.05102040816327\n",
      "\n"
     ]
    },
    {
     "name": "stderr",
     "output_type": "stream",
     "text": [
      "Training Epochs:  20%|███▌              | 40023/200000 [05:00<23:40, 112.63it/s]"
     ]
    },
    {
     "name": "stdout",
     "output_type": "stream",
     "text": [
      "Iteration: 40000. \n",
      "Test - Loss: 0.5917593240737915. Accuracy: 69.48571428571428\n",
      "Train -  Loss: 0.5898041725158691. Accuracy: 69.52448979591837\n",
      "\n"
     ]
    },
    {
     "name": "stderr",
     "output_type": "stream",
     "text": [
      "Training Epochs:  25%|████▌             | 50017/200000 [06:25<22:57, 108.88it/s]"
     ]
    },
    {
     "name": "stdout",
     "output_type": "stream",
     "text": [
      "Iteration: 50000. \n",
      "Test - Loss: 0.5822541117668152. Accuracy: 70.9095238095238\n",
      "Train -  Loss: 0.5799923539161682. Accuracy: 70.86938775510204\n",
      "\n"
     ]
    },
    {
     "name": "stderr",
     "output_type": "stream",
     "text": [
      "Training Epochs:  30%|█████▍            | 60015/200000 [07:54<16:27, 141.69it/s]"
     ]
    },
    {
     "name": "stdout",
     "output_type": "stream",
     "text": [
      "Iteration: 60000. \n",
      "Test - Loss: 0.5751746892929077. Accuracy: 71.75714285714285\n",
      "Train -  Loss: 0.5725848078727722. Accuracy: 71.78775510204082\n",
      "\n"
     ]
    },
    {
     "name": "stderr",
     "output_type": "stream",
     "text": [
      "Training Epochs:  35%|██████▋            | 70006/200000 [09:11<23:37, 91.70it/s]"
     ]
    },
    {
     "name": "stdout",
     "output_type": "stream",
     "text": [
      "Iteration: 70000. \n",
      "Test - Loss: 0.5702346563339233. Accuracy: 72.16666666666667\n",
      "Train -  Loss: 0.5673930048942566. Accuracy: 72.21020408163265\n",
      "\n"
     ]
    },
    {
     "name": "stderr",
     "output_type": "stream",
     "text": [
      "Training Epochs:  40%|███████▏          | 80012/200000 [10:26<16:36, 120.42it/s]"
     ]
    },
    {
     "name": "stdout",
     "output_type": "stream",
     "text": [
      "Iteration: 80000. \n",
      "Test - Loss: 0.5672319531440735. Accuracy: 72.35714285714286\n",
      "Train -  Loss: 0.5641141533851624. Accuracy: 72.4673469387755\n",
      "\n"
     ]
    },
    {
     "name": "stderr",
     "output_type": "stream",
     "text": [
      "Training Epochs:  45%|████████          | 90033/200000 [11:36<11:10, 164.08it/s]"
     ]
    },
    {
     "name": "stdout",
     "output_type": "stream",
     "text": [
      "Iteration: 90000. \n",
      "Test - Loss: 0.5656375288963318. Accuracy: 72.53333333333333\n",
      "Train -  Loss: 0.5622321367263794. Accuracy: 72.60204081632654\n",
      "\n"
     ]
    },
    {
     "name": "stderr",
     "output_type": "stream",
     "text": [
      "Training Epochs:  50%|████████▌        | 100014/200000 [12:41<11:10, 149.17it/s]"
     ]
    },
    {
     "name": "stdout",
     "output_type": "stream",
     "text": [
      "Iteration: 100000. \n",
      "Test - Loss: 0.5647122859954834. Accuracy: 72.54285714285714\n",
      "Train -  Loss: 0.5611051917076111. Accuracy: 72.6734693877551\n",
      "\n"
     ]
    },
    {
     "name": "stderr",
     "output_type": "stream",
     "text": [
      "Training Epochs:  55%|█████████▎       | 110016/200000 [13:59<10:17, 145.80it/s]"
     ]
    },
    {
     "name": "stdout",
     "output_type": "stream",
     "text": [
      "Iteration: 110000. \n",
      "Test - Loss: 0.5640769600868225. Accuracy: 72.55238095238096\n",
      "Train -  Loss: 0.5603513121604919. Accuracy: 72.7673469387755\n",
      "\n"
     ]
    },
    {
     "name": "stderr",
     "output_type": "stream",
     "text": [
      "Training Epochs:  60%|██████████▏      | 120023/200000 [15:11<08:40, 153.77it/s]"
     ]
    },
    {
     "name": "stdout",
     "output_type": "stream",
     "text": [
      "Iteration: 120000. \n",
      "Test - Loss: 0.5635737776756287. Accuracy: 72.53809523809524\n",
      "Train -  Loss: 0.5597851276397705. Accuracy: 72.82244897959184\n",
      "\n"
     ]
    },
    {
     "name": "stderr",
     "output_type": "stream",
     "text": [
      "Training Epochs:  65%|███████████▋      | 130010/200000 [16:33<16:09, 72.16it/s]"
     ]
    },
    {
     "name": "stdout",
     "output_type": "stream",
     "text": [
      "Iteration: 130000. \n",
      "Test - Loss: 0.5631484389305115. Accuracy: 72.52380952380952\n",
      "Train -  Loss: 0.5593288540840149. Accuracy: 72.85510204081632\n",
      "\n"
     ]
    },
    {
     "name": "stderr",
     "output_type": "stream",
     "text": [
      "Training Epochs:  70%|███████████▉     | 140023/200000 [17:41<06:14, 160.30it/s]"
     ]
    },
    {
     "name": "stdout",
     "output_type": "stream",
     "text": [
      "Iteration: 140000. \n",
      "Test - Loss: 0.562777042388916. Accuracy: 72.56190476190476\n",
      "Train -  Loss: 0.5589444637298584. Accuracy: 72.80816326530612\n",
      "\n"
     ]
    },
    {
     "name": "stderr",
     "output_type": "stream",
     "text": [
      "Training Epochs:  75%|████████████▊    | 150029/200000 [18:45<05:00, 166.22it/s]"
     ]
    },
    {
     "name": "stdout",
     "output_type": "stream",
     "text": [
      "Iteration: 150000. \n",
      "Test - Loss: 0.562445342540741. Accuracy: 72.57142857142857\n",
      "Train -  Loss: 0.558610200881958. Accuracy: 72.83877551020409\n",
      "\n"
     ]
    },
    {
     "name": "stderr",
     "output_type": "stream",
     "text": [
      "Training Epochs:  80%|█████████████▌   | 160022/200000 [19:53<04:14, 157.11it/s]"
     ]
    },
    {
     "name": "stdout",
     "output_type": "stream",
     "text": [
      "Iteration: 160000. \n",
      "Test - Loss: 0.5621414184570312. Accuracy: 72.6047619047619\n",
      "Train -  Loss: 0.5583115220069885. Accuracy: 72.86530612244898\n",
      "\n"
     ]
    },
    {
     "name": "stderr",
     "output_type": "stream",
     "text": [
      "Training Epochs:  85%|██████████████▍  | 170034/200000 [20:58<03:02, 164.00it/s]"
     ]
    },
    {
     "name": "stdout",
     "output_type": "stream",
     "text": [
      "Iteration: 170000. \n",
      "Test - Loss: 0.5618574619293213. Accuracy: 72.63333333333334\n",
      "Train -  Loss: 0.5580385327339172. Accuracy: 72.87346938775511\n",
      "\n"
     ]
    },
    {
     "name": "stderr",
     "output_type": "stream",
     "text": [
      "Training Epochs:  90%|███████████████▎ | 180023/200000 [22:05<02:02, 163.72it/s]"
     ]
    },
    {
     "name": "stdout",
     "output_type": "stream",
     "text": [
      "Iteration: 180000. \n",
      "Test - Loss: 0.5615882277488708. Accuracy: 72.66666666666667\n",
      "Train -  Loss: 0.5577855706214905. Accuracy: 72.89183673469388\n",
      "\n"
     ]
    },
    {
     "name": "stderr",
     "output_type": "stream",
     "text": [
      "Training Epochs:  95%|████████████████▏| 190026/200000 [23:08<01:01, 160.89it/s]"
     ]
    },
    {
     "name": "stdout",
     "output_type": "stream",
     "text": [
      "Iteration: 190000. \n",
      "Test - Loss: 0.5613257884979248. Accuracy: 72.64761904761905\n",
      "Train -  Loss: 0.5575442314147949. Accuracy: 72.89795918367346\n",
      "\n"
     ]
    },
    {
     "name": "stderr",
     "output_type": "stream",
     "text": [
      "Training Epochs: 100%|█████████████████| 200000/200000 [24:28<00:00, 136.22it/s]"
     ]
    },
    {
     "name": "stdout",
     "output_type": "stream",
     "text": [
      "Iteration: 200000. \n",
      "Test - Loss: 0.5610642433166504. Accuracy: 72.66190476190476\n",
      "Train -  Loss: 0.5573104023933411. Accuracy: 72.92040816326531\n",
      "\n"
     ]
    },
    {
     "name": "stderr",
     "output_type": "stream",
     "text": [
      "\n"
     ]
    }
   ],
   "source": [
    "losses = []\n",
    "losses_test = []\n",
    "Iterations = []\n",
    "iter = 0\n",
    "for epoch in tqdm(range(int(epochs)),desc='Training Epochs'):\n",
    "    x = X_train\n",
    "    labels = y_train\n",
    "    optimizer.zero_grad() # Setting our stored gradients equal to zero\n",
    "    outputs = model(X_train)\n",
    "    loss = criterion(torch.squeeze(outputs), labels) \n",
    "    \n",
    "    loss.backward() # Computes the gradient of the given tensor w.r.t. the weights/bias\n",
    "    \n",
    "    optimizer.step() # Updates weights and biases with the optimizer (SGD)\n",
    "    \n",
    "    iter+=1\n",
    "    if iter%10000==0:\n",
    "        with torch.no_grad():\n",
    "            # Calculating the loss and accuracy for the test dataset\n",
    "            correct_test = 0\n",
    "            total_test = 0\n",
    "            outputs_test = torch.squeeze(model(X_test))\n",
    "            loss_test = criterion(outputs_test, y_test)\n",
    "            \n",
    "            predicted_test = outputs_test.round().detach().numpy()\n",
    "            total_test += y_test.size(0)\n",
    "            correct_test += np.sum(predicted_test == y_test.detach().numpy())\n",
    "            accuracy_test = 100 * correct_test/total_test\n",
    "            losses_test.append(loss_test.item())\n",
    "            \n",
    "            # Calculating the loss and accuracy for the train dataset\n",
    "            total = 0\n",
    "            correct = 0\n",
    "            total += y_train.size(0)\n",
    "            correct += np.sum(torch.squeeze(outputs).round().detach().numpy() == y_train.detach().numpy())\n",
    "            accuracy = 100 * correct/total\n",
    "            losses.append(loss.item())\n",
    "            Iterations.append(iter)\n",
    "            \n",
    "            print(f\"Iteration: {iter}. \\nTest - Loss: {loss_test.item()}. Accuracy: {accuracy_test}\")\n",
    "            print(f\"Train -  Loss: {loss.item()}. Accuracy: {accuracy}\\n\")"
   ]
  },
  {
   "cell_type": "code",
   "execution_count": null,
   "id": "64044af6",
   "metadata": {},
   "outputs": [],
   "source": []
  }
 ],
 "metadata": {
  "kernelspec": {
   "display_name": "Python 3 (ipykernel)",
   "language": "python",
   "name": "python3"
  },
  "language_info": {
   "codemirror_mode": {
    "name": "ipython",
    "version": 3
   },
   "file_extension": ".py",
   "mimetype": "text/x-python",
   "name": "python",
   "nbconvert_exporter": "python",
   "pygments_lexer": "ipython3",
   "version": "3.9.12"
  }
 },
 "nbformat": 4,
 "nbformat_minor": 5
}
