{
 "cells": [
  {
   "cell_type": "code",
   "execution_count": 1,
   "id": "fe590947",
   "metadata": {},
   "outputs": [],
   "source": [
    "import numpy as np\n",
    "import pandas as pd\n",
    "from sklearn.preprocessing import StandardScaler\n",
    "from sklearn.model_selection import train_test_split\n",
    "import matplotlib.pyplot as plt\n",
    "%matplotlib inline"
   ]
  },
  {
   "cell_type": "code",
   "execution_count": 2,
   "id": "5ee7e341",
   "metadata": {},
   "outputs": [],
   "source": [
    "df = pd.read_csv(\"cardio_train.csv\",sep=';')\n",
    "df['bmi'] = df['weight']/((df['height']/100)**2)\n",
    "df['MAP'] = ((2* df['ap_lo']) + df['ap_hi']) / 3\n",
    "df = df.drop([\"id\",\"weight\",\"height\",\"ap_hi\",\"ap_lo\"],axis = 1)\n",
    "y = df.cardio\n",
    "X = df.drop([\"cardio\"],axis = 1)\n",
    "Xtrain,Xtest,ytrain,ytest = train_test_split(X, y, test_size=0.3,random_state = 20220531)\n",
    "Xtrain.to_csv('Xtrain_featured.csv',index=False)\n",
    "Xtest.to_csv('Xtest_featured.csv',index=False)\n",
    "ytrain.to_csv('ytrain_featured.csv',index=False)\n",
    "ytest.to_csv('ytest_featured.csv',index=False)"
   ]
  },
  {
   "cell_type": "code",
   "execution_count": null,
   "id": "07c22943",
   "metadata": {},
   "outputs": [],
   "source": []
  }
 ],
 "metadata": {
  "kernelspec": {
   "display_name": "Python 3",
   "language": "python",
   "name": "python3"
  },
  "language_info": {
   "codemirror_mode": {
    "name": "ipython",
    "version": 3
   },
   "file_extension": ".py",
   "mimetype": "text/x-python",
   "name": "python",
   "nbconvert_exporter": "python",
   "pygments_lexer": "ipython3",
   "version": "3.8.8"
  }
 },
 "nbformat": 4,
 "nbformat_minor": 5
}
