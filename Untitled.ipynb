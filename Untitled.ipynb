{
 "cells": [
  {
   "cell_type": "code",
   "execution_count": 1,
   "id": "977286dc",
   "metadata": {},
   "outputs": [],
   "source": [
    "import pandas as pd\n",
    "import numpy as np\n",
    "import matplotlib.pyplot as plt\n",
    "import torch\n",
    "import torch.nn as nn\n",
    "from tqdm import tqdm"
   ]
  },
  {
   "cell_type": "code",
   "execution_count": 2,
   "id": "9be5c148",
   "metadata": {},
   "outputs": [],
   "source": [
    "Xtrain = pd.read_csv(\"Xtrain.csv\")\n",
    "ytrain = pd.read_csv(\"ytrain.csv\").cardio\n",
    "Xtest = pd.read_csv(\"Xtest.csv\")\n",
    "ytest = pd.read_csv(\"ytest.csv\").cardio"
   ]
  },
  {
   "cell_type": "code",
   "execution_count": 3,
   "id": "0778dcd4",
   "metadata": {},
   "outputs": [],
   "source": [
    "class NN(torch.nn.Module):\n",
    "    def __init__(self, input_dim, output_dim):\n",
    "        super(LogisticRegression, self).__init__()\n",
    "        self.linear1 = torch.nn.Linear(input_dim, 15)\n",
    "        self.linear2 = torch.nn.Linear(15, output_dim)\n",
    "    def forward(self, x):\n",
    "        x = torch.sigmoid(self.linear1(x))\n",
    "        x = torch.sigmoid(self.linear2(x))\n",
    "        return x"
   ]
  },
  {
   "cell_type": "code",
   "execution_count": 4,
   "id": "77c6f5fe",
   "metadata": {},
   "outputs": [],
   "source": [
    "epochs = 200000\n",
    "input_dim = 11 # Two inputs x1 and x2 \n",
    "output_dim = 1 # Single binary output \n",
    "learning_rate = 0.01"
   ]
  },
  {
   "cell_type": "code",
   "execution_count": 5,
   "id": "a9325967",
   "metadata": {},
   "outputs": [],
   "source": [
    "model = NN(input_dim,output_dim)\n",
    "criterion = torch.nn.BCELoss()\n",
    "optimizer = torch.optim.SGD(model.parameters(), lr=learning_rate)\n",
    "X_train, X_test = torch.Tensor(Xtrain.values),torch.Tensor(Xtest.values)\n",
    "y_train, y_test = torch.Tensor(ytrain),torch.Tensor(ytest)"
   ]
  },
  {
   "cell_type": "code",
   "execution_count": 6,
   "id": "dbabafb2",
   "metadata": {},
   "outputs": [
    {
     "name": "stderr",
     "output_type": "stream",
     "text": [
      "Training Epochs:   5%|██▊                                                      | 10010/200000 [01:53<27:04, 116.94it/s]"
     ]
    },
    {
     "name": "stdout",
     "output_type": "stream",
     "text": [
      "Iteration: 10000. \n",
      "Test - Loss: 0.624302864074707. Accuracy: 65.11904761904762\n",
      "Train -  Loss: 0.6226708889007568. Accuracy: 65.2673469387755\n",
      "\n"
     ]
    },
    {
     "name": "stderr",
     "output_type": "stream",
     "text": [
      "Training Epochs:  10%|█████▊                                                    | 20013/200000 [03:32<38:16, 78.38it/s]"
     ]
    },
    {
     "name": "stdout",
     "output_type": "stream",
     "text": [
      "Iteration: 20000. \n",
      "Test - Loss: 0.6137466430664062. Accuracy: 66.33809523809524\n",
      "Train -  Loss: 0.6123234033584595. Accuracy: 66.56734693877551\n",
      "\n"
     ]
    },
    {
     "name": "stderr",
     "output_type": "stream",
     "text": [
      "Training Epochs:  15%|████████▋                                                 | 30007/200000 [06:00<39:32, 71.66it/s]"
     ]
    },
    {
     "name": "stdout",
     "output_type": "stream",
     "text": [
      "Iteration: 30000. \n",
      "Test - Loss: 0.6036098599433899. Accuracy: 67.68095238095238\n",
      "Train -  Loss: 0.6021292209625244. Accuracy: 67.80816326530612\n",
      "\n"
     ]
    },
    {
     "name": "stderr",
     "output_type": "stream",
     "text": [
      "Training Epochs:  20%|███████████▌                                              | 40011/200000 [08:20<41:00, 65.01it/s]"
     ]
    },
    {
     "name": "stdout",
     "output_type": "stream",
     "text": [
      "Iteration: 40000. \n",
      "Test - Loss: 0.5925298929214478. Accuracy: 69.16666666666667\n",
      "Train -  Loss: 0.5908539295196533. Accuracy: 69.32040816326531\n",
      "\n"
     ]
    },
    {
     "name": "stderr",
     "output_type": "stream",
     "text": [
      "Training Epochs:  25%|██████████████▌                                           | 50006/200000 [10:50<39:53, 62.67it/s]"
     ]
    },
    {
     "name": "stdout",
     "output_type": "stream",
     "text": [
      "Iteration: 50000. \n",
      "Test - Loss: 0.5824658870697021. Accuracy: 70.70476190476191\n",
      "Train -  Loss: 0.5804212093353271. Accuracy: 70.73469387755102\n",
      "\n"
     ]
    },
    {
     "name": "stderr",
     "output_type": "stream",
     "text": [
      "Training Epochs:  30%|█████████████████▍                                        | 60005/200000 [13:19<36:42, 63.55it/s]"
     ]
    },
    {
     "name": "stdout",
     "output_type": "stream",
     "text": [
      "Iteration: 60000. \n",
      "Test - Loss: 0.5751558542251587. Accuracy: 71.71428571428571\n",
      "Train -  Loss: 0.5726450085639954. Accuracy: 71.76122448979592\n",
      "\n"
     ]
    },
    {
     "name": "stderr",
     "output_type": "stream",
     "text": [
      "Training Epochs:  35%|████████████████████▎                                     | 70010/200000 [15:48<31:51, 68.01it/s]"
     ]
    },
    {
     "name": "stdout",
     "output_type": "stream",
     "text": [
      "Iteration: 70000. \n",
      "Test - Loss: 0.5706573128700256. Accuracy: 72.15714285714286\n",
      "Train -  Loss: 0.5677070021629333. Accuracy: 72.26122448979592\n",
      "\n"
     ]
    },
    {
     "name": "stderr",
     "output_type": "stream",
     "text": [
      "Training Epochs:  40%|███████████████████████▏                                  | 80011/200000 [18:21<30:58, 64.56it/s]"
     ]
    },
    {
     "name": "stdout",
     "output_type": "stream",
     "text": [
      "Iteration: 80000. \n",
      "Test - Loss: 0.567948043346405. Accuracy: 72.39047619047619\n",
      "Train -  Loss: 0.5646724104881287. Accuracy: 72.48775510204082\n",
      "\n"
     ]
    },
    {
     "name": "stderr",
     "output_type": "stream",
     "text": [
      "Training Epochs:  45%|██████████████████████████                                | 90008/200000 [20:51<25:35, 71.63it/s]"
     ]
    },
    {
     "name": "stdout",
     "output_type": "stream",
     "text": [
      "Iteration: 90000. \n",
      "Test - Loss: 0.5663113594055176. Accuracy: 72.51904761904763\n",
      "Train -  Loss: 0.5628466010093689. Accuracy: 72.59591836734694\n",
      "\n"
     ]
    },
    {
     "name": "stderr",
     "output_type": "stream",
     "text": [
      "Training Epochs:  50%|████████████████████████████▌                            | 100006/200000 [23:22<23:52, 69.80it/s]"
     ]
    },
    {
     "name": "stdout",
     "output_type": "stream",
     "text": [
      "Iteration: 100000. \n",
      "Test - Loss: 0.5654998421669006. Accuracy: 72.58571428571429\n",
      "Train -  Loss: 0.5618494153022766. Accuracy: 72.67551020408163\n",
      "\n"
     ]
    },
    {
     "name": "stderr",
     "output_type": "stream",
     "text": [
      "Training Epochs:  55%|███████████████████████████████▎                         | 110013/200000 [25:55<24:08, 62.11it/s]"
     ]
    },
    {
     "name": "stdout",
     "output_type": "stream",
     "text": [
      "Iteration: 110000. \n",
      "Test - Loss: 0.5649620294570923. Accuracy: 72.62380952380953\n",
      "Train -  Loss: 0.5611957311630249. Accuracy: 72.71428571428571\n",
      "\n"
     ]
    },
    {
     "name": "stderr",
     "output_type": "stream",
     "text": [
      "Training Epochs:  60%|██████████████████████████████████▏                      | 120006/200000 [28:26<21:02, 63.38it/s]"
     ]
    },
    {
     "name": "stdout",
     "output_type": "stream",
     "text": [
      "Iteration: 120000. \n",
      "Test - Loss: 0.5644792318344116. Accuracy: 72.5904761904762\n",
      "Train -  Loss: 0.5606707334518433. Accuracy: 72.7591836734694\n",
      "\n"
     ]
    },
    {
     "name": "stderr",
     "output_type": "stream",
     "text": [
      "Training Epochs:  65%|█████████████████████████████████████                    | 130007/200000 [31:00<19:32, 59.68it/s]"
     ]
    },
    {
     "name": "stdout",
     "output_type": "stream",
     "text": [
      "Iteration: 130000. \n",
      "Test - Loss: 0.5640462636947632. Accuracy: 72.66190476190476\n",
      "Train -  Loss: 0.5601949691772461. Accuracy: 72.78163265306122\n",
      "\n"
     ]
    },
    {
     "name": "stderr",
     "output_type": "stream",
     "text": [
      "Training Epochs:  70%|███████████████████████████████████████▉                 | 140007/200000 [33:33<14:30, 68.90it/s]"
     ]
    },
    {
     "name": "stdout",
     "output_type": "stream",
     "text": [
      "Iteration: 140000. \n",
      "Test - Loss: 0.5636241436004639. Accuracy: 72.72857142857143\n",
      "Train -  Loss: 0.5597294569015503. Accuracy: 72.78367346938775\n",
      "\n"
     ]
    },
    {
     "name": "stderr",
     "output_type": "stream",
     "text": [
      "Training Epochs:  75%|██████████████████████████████████████████              | 150013/200000 [35:22<07:23, 112.77it/s]"
     ]
    },
    {
     "name": "stdout",
     "output_type": "stream",
     "text": [
      "Iteration: 150000. \n",
      "Test - Loss: 0.5632215738296509. Accuracy: 72.75714285714285\n",
      "Train -  Loss: 0.559282124042511. Accuracy: 72.81020408163265\n",
      "\n"
     ]
    },
    {
     "name": "stderr",
     "output_type": "stream",
     "text": [
      "Training Epochs:  80%|█████████████████████████████████████████████▌           | 160014/200000 [37:07<09:18, 71.58it/s]"
     ]
    },
    {
     "name": "stdout",
     "output_type": "stream",
     "text": [
      "Iteration: 160000. \n",
      "Test - Loss: 0.5628539323806763. Accuracy: 72.77619047619048\n",
      "Train -  Loss: 0.5588724613189697. Accuracy: 72.86122448979592\n",
      "\n"
     ]
    },
    {
     "name": "stderr",
     "output_type": "stream",
     "text": [
      "Training Epochs:  85%|████████████████████████████████████████████████▍        | 170012/200000 [39:43<07:40, 65.18it/s]"
     ]
    },
    {
     "name": "stdout",
     "output_type": "stream",
     "text": [
      "Iteration: 170000. \n",
      "Test - Loss: 0.5625329613685608. Accuracy: 72.78095238095239\n",
      "Train -  Loss: 0.5585142970085144. Accuracy: 72.90612244897959\n",
      "\n"
     ]
    },
    {
     "name": "stderr",
     "output_type": "stream",
     "text": [
      "Training Epochs:  90%|███████████████████████████████████████████████████▎     | 180007/200000 [42:18<04:58, 67.05it/s]"
     ]
    },
    {
     "name": "stdout",
     "output_type": "stream",
     "text": [
      "Iteration: 180000. \n",
      "Test - Loss: 0.5622583031654358. Accuracy: 72.82380952380953\n",
      "Train -  Loss: 0.5582090020179749. Accuracy: 72.92244897959183\n",
      "\n"
     ]
    },
    {
     "name": "stderr",
     "output_type": "stream",
     "text": [
      "Training Epochs:  95%|██████████████████████████████████████████████████████▏  | 190009/200000 [44:53<02:34, 64.66it/s]"
     ]
    },
    {
     "name": "stdout",
     "output_type": "stream",
     "text": [
      "Iteration: 190000. \n",
      "Test - Loss: 0.5620192289352417. Accuracy: 72.83333333333333\n",
      "Train -  Loss: 0.5579467415809631. Accuracy: 72.97551020408163\n",
      "\n"
     ]
    },
    {
     "name": "stderr",
     "output_type": "stream",
     "text": [
      "Training Epochs: 100%|█████████████████████████████████████████████████████████| 200000/200000 [47:28<00:00, 70.21it/s]"
     ]
    },
    {
     "name": "stdout",
     "output_type": "stream",
     "text": [
      "Iteration: 200000. \n",
      "Test - Loss: 0.5618072748184204. Accuracy: 72.9\n",
      "Train -  Loss: 0.5577182173728943. Accuracy: 72.99591836734695\n",
      "\n"
     ]
    },
    {
     "name": "stderr",
     "output_type": "stream",
     "text": [
      "\n"
     ]
    }
   ],
   "source": [
    "losses = []\n",
    "losses_test = []\n",
    "Iterations = []\n",
    "iter = 0\n",
    "for epoch in tqdm(range(int(epochs)),desc='Training Epochs'):\n",
    "    x = X_train\n",
    "    labels = y_train\n",
    "    optimizer.zero_grad() # Setting our stored gradients equal to zero\n",
    "    outputs = model(X_train)\n",
    "    loss = criterion(torch.squeeze(outputs), labels) \n",
    "    \n",
    "    loss.backward() # Computes the gradient of the given tensor w.r.t. the weights/bias\n",
    "    \n",
    "    optimizer.step() # Updates weights and biases with the optimizer (SGD)\n",
    "    \n",
    "    iter+=1\n",
    "    if iter%10000==0:\n",
    "        with torch.no_grad():\n",
    "            # Calculating the loss and accuracy for the test dataset\n",
    "            correct_test = 0\n",
    "            total_test = 0\n",
    "            outputs_test = torch.squeeze(model(X_test))\n",
    "            loss_test = criterion(outputs_test, y_test)\n",
    "            \n",
    "            predicted_test = outputs_test.round().detach().numpy()\n",
    "            total_test += y_test.size(0)\n",
    "            correct_test += np.sum(predicted_test == y_test.detach().numpy())\n",
    "            accuracy_test = 100 * correct_test/total_test\n",
    "            losses_test.append(loss_test.item())\n",
    "            \n",
    "            # Calculating the loss and accuracy for the train dataset\n",
    "            total = 0\n",
    "            correct = 0\n",
    "            total += y_train.size(0)\n",
    "            correct += np.sum(torch.squeeze(outputs).round().detach().numpy() == y_train.detach().numpy())\n",
    "            accuracy = 100 * correct/total\n",
    "            losses.append(loss.item())\n",
    "            Iterations.append(iter)\n",
    "            \n",
    "            print(f\"Iteration: {iter}. \\nTest - Loss: {loss_test.item()}. Accuracy: {accuracy_test}\")\n",
    "            print(f\"Train -  Loss: {loss.item()}. Accuracy: {accuracy}\\n\")"
   ]
  },
  {
   "cell_type": "code",
   "execution_count": null,
   "id": "64044af6",
   "metadata": {},
   "outputs": [],
   "source": []
  }
 ],
 "metadata": {
  "kernelspec": {
   "display_name": "Python 3",
   "language": "python",
   "name": "python3"
  },
  "language_info": {
   "codemirror_mode": {
    "name": "ipython",
    "version": 3
   },
   "file_extension": ".py",
   "mimetype": "text/x-python",
   "name": "python",
   "nbconvert_exporter": "python",
   "pygments_lexer": "ipython3",
   "version": "3.8.8"
  }
 },
 "nbformat": 4,
 "nbformat_minor": 5
}
